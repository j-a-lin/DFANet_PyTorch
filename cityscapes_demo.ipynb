{
 "cells": [
  {
   "cell_type": "code",
   "execution_count": null,
   "metadata": {},
   "outputs": [],
   "source": [
    "import torch\n",
    "from datasets.cityscapes import Cityscapes\n",
    "from plugin import DFANetPlugin\n",
    "import matplotlib.pyplot as plt\n",
    "\n",
    "net_plugin = DFANetPlugin(2048, 1024, False) # or 1024x1024?\n",
    "\n",
    "path_dataset = \"\" # fill in..\n",
    "test_dataset = Cityscapes(path_dataset, split='test', mode='fine', target_type='semantic')\n",
    "\n",
    "test_loader = torch.utils.data.DataLoader(test_dataset, batch_size=1, shuffle=True, num_workers=4)\n",
    "\n",
    "data_iterator = iter(test_loader)"
   ]
  },
  {
   "cell_type": "code",
   "execution_count": null,
   "metadata": {},
   "outputs": [],
   "source": [
    "image, label = data_iterator.next()\n",
    "cv2.imshow('ground truth', label)\n",
    "\n",
    "output = plugin.process(image)\n",
    "cv2.imshow('DFANet output', output)"
   ]
  }
 ],
 "metadata": {
  "kernelspec": {
   "display_name": "Python 3",
   "language": "python",
   "name": "python3"
  },
  "language_info": {
   "codemirror_mode": {
    "name": "ipython",
    "version": 3
   },
   "file_extension": ".py",
   "mimetype": "text/x-python",
   "name": "python",
   "nbconvert_exporter": "python",
   "pygments_lexer": "ipython3",
   "version": "3.6.4"
  }
 },
 "nbformat": 4,
 "nbformat_minor": 2
}
